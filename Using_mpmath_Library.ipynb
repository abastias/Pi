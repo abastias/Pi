{
  "nbformat": 4,
  "nbformat_minor": 0,
  "metadata": {
    "colab": {
      "provenance": []
    },
    "kernelspec": {
      "name": "python3",
      "display_name": "Python 3"
    },
    "language_info": {
      "name": "python"
    }
  },
  "cells": [
    {
      "cell_type": "markdown",
      "source": [
        "# mpmath library"
      ],
      "metadata": {
        "id": "1aj5TKnQnWxg"
      }
    },
    {
      "cell_type": "markdown",
      "source": [
        "**mpmath** is a free (BSD licensed) Python library for real and complex floating-point arithmetic with arbitrary precision. It has been developed by Fredrik Johansson since 2007, with help from many contributors.\n",
        "\n",
        "https://mpmath.org/"
      ],
      "metadata": {
        "id": "q2oYHTEKneDV"
      }
    },
    {
      "cell_type": "code",
      "execution_count": 2,
      "metadata": {
        "colab": {
          "base_uri": "https://localhost:8080/"
        },
        "id": "uiQu7gRanEC1",
        "outputId": "6c8eb3d1-d177-4aa4-8ce7-c0a87c924ced"
      },
      "outputs": [
        {
          "output_type": "stream",
          "name": "stdout",
          "text": [
            "41592653589793238462643383279502884197169399375105820974944592307816406286208998628034825342117067982148086513282306647093844609550582231725359408128481117450284102701938521105559644622948954930381964\n"
          ]
        }
      ],
      "source": [
        "from mpmath import*\n",
        "mp.dps=102\n",
        "print(str(pi)[3:])"
      ]
    }
  ]
}